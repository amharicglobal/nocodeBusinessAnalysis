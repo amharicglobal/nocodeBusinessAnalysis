{
  "nbformat": 4,
  "nbformat_minor": 0,
  "metadata": {
    "colab": {
      "name": "NoCodeLowCodeSolutions.ipynb",
      "provenance": [],
      "authorship_tag": "ABX9TyOnk60ewCKgijIqUF8vszip",
      "include_colab_link": true
    },
    "kernelspec": {
      "name": "python3",
      "display_name": "Python 3"
    }
  },
  "cells": [
    {
      "cell_type": "markdown",
      "metadata": {
        "id": "view-in-github",
        "colab_type": "text"
      },
      "source": [
        "<a href=\"https://colab.research.google.com/github/amharicglobal/nocodeBusinessAnalysis/blob/master/NoCodeLowCodeSolutions.ipynb\" target=\"_parent\"><img src=\"https://colab.research.google.com/assets/colab-badge.svg\" alt=\"Open In Colab\"/></a>"
      ]
    },
    {
      "cell_type": "code",
      "metadata": {
        "id": "S73Y9r2bsVRj",
        "colab_type": "code",
        "colab": {}
      },
      "source": [
        ""
      ],
      "execution_count": null,
      "outputs": []
    },
    {
      "cell_type": "markdown",
      "metadata": {
        "id": "cBU9ehLXsh8q",
        "colab_type": "text"
      },
      "source": [
        "# Tech Giants data science resources for no code/low code"
      ]
    },
    {
      "cell_type": "markdown",
      "metadata": {
        "id": "4DEH8cVIsmf7",
        "colab_type": "text"
      },
      "source": [
        "# Apple\n",
        "\n",
        "https://developer.apple.com/documentation/createml\n",
        "```\n",
        "# Create ML\n",
        "Create machine learning models for use in your app.\n",
        "```\n",
        "# GC\n",
        "\n",
        "```\n",
        "# This is formatted as code\n",
        "```\n",
        "# Azure\n",
        "\n",
        "\n",
        "```\n",
        "# This is formatted as code\n"
      ]
    },
    {
      "cell_type": "markdown",
      "metadata": {
        "id": "COEPOK-ttV5I",
        "colab_type": "text"
      },
      "source": [
        "# AWS \n",
        "\n",
        "```\n",
        "# This is formatted as code\n",
        "```\n",
        "\n"
      ]
    },
    {
      "cell_type": "markdown",
      "metadata": {
        "id": "hiG8bbUxtYhU",
        "colab_type": "text"
      },
      "source": [
        ""
      ]
    },
    {
      "cell_type": "markdown",
      "metadata": {
        "id": "cvYk_pn_tOa9",
        "colab_type": "text"
      },
      "source": [
        ""
      ]
    },
    {
      "cell_type": "markdown",
      "metadata": {
        "id": "dj1oxk__tP-n",
        "colab_type": "text"
      },
      "source": [
        ""
      ]
    },
    {
      "cell_type": "markdown",
      "metadata": {
        "id": "5ExjZEv8tLC7",
        "colab_type": "text"
      },
      "source": [
        ""
      ]
    },
    {
      "cell_type": "markdown",
      "metadata": {
        "id": "8HvD0TqhtEC7",
        "colab_type": "text"
      },
      "source": [
        ""
      ]
    },
    {
      "cell_type": "markdown",
      "metadata": {
        "id": "XoZIWxgNs_ib",
        "colab_type": "text"
      },
      "source": [
        ""
      ]
    },
    {
      "cell_type": "markdown",
      "metadata": {
        "id": "xZ6_PCvIs6T6",
        "colab_type": "text"
      },
      "source": [
        ""
      ]
    }
  ]
}