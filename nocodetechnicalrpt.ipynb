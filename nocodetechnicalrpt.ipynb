{
  "nbformat": 4,
  "nbformat_minor": 0,
  "metadata": {
    "colab": {
      "name": "nocodetechnicalrpt.ipynb",
      "provenance": [],
      "authorship_tag": "ABX9TyOKDwdnuTb6xuW4keskyusI",
      "include_colab_link": true
    },
    "kernelspec": {
      "name": "python3",
      "display_name": "Python 3"
    }
  },
  "cells": [
    {
      "cell_type": "markdown",
      "metadata": {
        "id": "view-in-github",
        "colab_type": "text"
      },
      "source": [
        "<a href=\"https://colab.research.google.com/github/amharicglobal/nocodeBusinessAnalysis/blob/master/nocodetechnicalrpt.ipynb\" target=\"_parent\"><img src=\"https://colab.research.google.com/assets/colab-badge.svg\" alt=\"Open In Colab\"/></a>"
      ]
    },
    {
      "cell_type": "markdown",
      "metadata": {
        "id": "6WGdQai1nBlz",
        "colab_type": "text"
      },
      "source": [
        "# Ingest\n",
        "\n",
        "```\n",
        "# This is formatted as code\n",
        "```\n",
        "\n"
      ]
    },
    {
      "cell_type": "markdown",
      "metadata": {
        "id": "S3LvM5UanDaV",
        "colab_type": "text"
      },
      "source": [
        "## EDA\n",
        "\n",
        "```\n",
        "# This is formatted as code\n",
        "```\n"
      ]
    },
    {
      "cell_type": "markdown",
      "metadata": {
        "id": "OoAtTouJnFHI",
        "colab_type": "text"
      },
      "source": [
        "# Modeling \n",
        "\n",
        "```\n",
        "# This is formatted as code\n",
        "```\n",
        "\n"
      ]
    },
    {
      "cell_type": "markdown",
      "metadata": {
        "id": "tXmKgMcPnJ_g",
        "colab_type": "text"
      },
      "source": [
        "# Conclusion \n",
        "\n",
        "```\n",
        "# This is formatted as code\n",
        "```\n",
        "\n"
      ]
    },
    {
      "cell_type": "markdown",
      "metadata": {
        "id": "uFoi4wpcnNK_",
        "colab_type": "text"
      },
      "source": [
        "# Recommend \n",
        "\n",
        "```\n",
        "# This is formatted as code\n",
        "```\n",
        "\n"
      ]
    },
    {
      "cell_type": "markdown",
      "metadata": {
        "id": "Xh1T1qrAnSBk",
        "colab_type": "text"
      },
      "source": [
        ""
      ]
    }
  ]
}